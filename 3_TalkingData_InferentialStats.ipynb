{
 "cells": [
  {
   "cell_type": "code",
   "execution_count": 1,
   "metadata": {},
   "outputs": [],
   "source": [
    "from mpl_toolkits.basemap import Basemap\n",
    "from pycm import ConfusionMatrix\n",
    "from scipy import stats\n",
    "from sklearn import metrics\n",
    "from sklearn.ensemble import RandomForestClassifier\n",
    "from sklearn.feature_extraction import FeatureHasher\n",
    "from sklearn.metrics import f1_score\n",
    "from sklearn.model_selection import train_test_split\n",
    "from sklearn.preprocessing import OneHotEncoder\n",
    "import dask.dataframe as dd\n",
    "import matplotlib as mpl\n",
    "import matplotlib.pyplot as plt\n",
    "import pandas as pd\n",
    "import seaborn as sns\n",
    "import scipy.stats as stats\n",
    "\n",
    "def warn(*args, **kwargs):\n",
    "    pass\n",
    "import warnings\n",
    "warnings.warn = warn\n",
    "\n",
    "sns.set()"
   ]
  },
  {
   "cell_type": "code",
   "execution_count": 2,
   "metadata": {},
   "outputs": [],
   "source": [
    "app_events = dd.read_csv('talkingdata/app_events.csv')\n",
    "app_labels = dd.read_csv('talkingdata/app_labels.csv')\n",
    "events = dd.read_csv('talkingdata/events.csv')\n",
    "train = dd.read_csv('talkingdata/gender_age_train.csv')\n",
    "label_categories = dd.read_csv('talkingdata/label_categories.csv')\n",
    "phone_brand_model = dd.read_csv('talkingdata/phone_brand_device_model.csv')"
   ]
  },
  {
   "cell_type": "code",
   "execution_count": 3,
   "metadata": {},
   "outputs": [
    {
     "data": {
      "text/html": [
       "<div>\n",
       "<style scoped>\n",
       "    .dataframe tbody tr th:only-of-type {\n",
       "        vertical-align: middle;\n",
       "    }\n",
       "\n",
       "    .dataframe tbody tr th {\n",
       "        vertical-align: top;\n",
       "    }\n",
       "\n",
       "    .dataframe thead th {\n",
       "        text-align: right;\n",
       "    }\n",
       "</style>\n",
       "<table border=\"1\" class=\"dataframe\">\n",
       "  <thead>\n",
       "    <tr style=\"text-align: right;\">\n",
       "      <th></th>\n",
       "      <th>device_id</th>\n",
       "      <th>app_count</th>\n",
       "      <th>phone_brand</th>\n",
       "      <th>device_model</th>\n",
       "    </tr>\n",
       "  </thead>\n",
       "  <tbody>\n",
       "    <tr>\n",
       "      <th>0</th>\n",
       "      <td>-9222956879900151005</td>\n",
       "      <td>68</td>\n",
       "      <td>三星</td>\n",
       "      <td>Galaxy Note 2</td>\n",
       "    </tr>\n",
       "    <tr>\n",
       "      <th>1</th>\n",
       "      <td>-9222661944218806987</td>\n",
       "      <td>10</td>\n",
       "      <td>vivo</td>\n",
       "      <td>Y913</td>\n",
       "    </tr>\n",
       "    <tr>\n",
       "      <th>2</th>\n",
       "      <td>-9222399302879214035</td>\n",
       "      <td>43</td>\n",
       "      <td>小米</td>\n",
       "      <td>MI 3</td>\n",
       "    </tr>\n",
       "    <tr>\n",
       "      <th>3</th>\n",
       "      <td>-9221767098072603291</td>\n",
       "      <td>25</td>\n",
       "      <td>金立</td>\n",
       "      <td>GN151</td>\n",
       "    </tr>\n",
       "    <tr>\n",
       "      <th>4</th>\n",
       "      <td>-9221079146476055829</td>\n",
       "      <td>12</td>\n",
       "      <td>小米</td>\n",
       "      <td>MI 3</td>\n",
       "    </tr>\n",
       "  </tbody>\n",
       "</table>\n",
       "</div>"
      ],
      "text/plain": [
       "             device_id  app_count phone_brand   device_model\n",
       "0 -9222956879900151005         68          三星  Galaxy Note 2\n",
       "1 -9222661944218806987         10        vivo           Y913\n",
       "2 -9222399302879214035         43          小米           MI 3\n",
       "3 -9221767098072603291         25          金立          GN151\n",
       "4 -9221079146476055829         12          小米           MI 3"
      ]
     },
     "execution_count": 3,
     "metadata": {},
     "output_type": "execute_result"
    }
   ],
   "source": [
    "# ---------------------------------------------------------------------\n",
    "# CREATE NEW DATAFRAME THAT CONTAINS TOTAL NUMBER OF APPS PER DEVICE  |\n",
    "# --------------------------------------------------------------------\n",
    "\n",
    "num_apps = events.groupby('device_id').first().reset_index().compute()\n",
    "num_apps = dd.merge(num_apps, app_events[['event_id', 'app_id']], on = 'event_id').compute()\n",
    "\n",
    "num_apps = num_apps.groupby('device_id')['app_id'].count().reset_index()\n",
    "num_apps = dd.merge(num_apps, phone_brand_model, on = 'device_id', how = 'inner') \n",
    "\n",
    "num_apps = num_apps.rename(columns={'app_id': 'app_count'})\n",
    "\n",
    "num_apps.head()"
   ]
  },
  {
   "cell_type": "code",
   "execution_count": 4,
   "metadata": {},
   "outputs": [
    {
     "data": {
      "text/html": [
       "<div>\n",
       "<style scoped>\n",
       "    .dataframe tbody tr th:only-of-type {\n",
       "        vertical-align: middle;\n",
       "    }\n",
       "\n",
       "    .dataframe tbody tr th {\n",
       "        vertical-align: top;\n",
       "    }\n",
       "\n",
       "    .dataframe thead th {\n",
       "        text-align: right;\n",
       "    }\n",
       "</style>\n",
       "<table border=\"1\" class=\"dataframe\">\n",
       "  <thead>\n",
       "    <tr style=\"text-align: right;\">\n",
       "      <th></th>\n",
       "      <th>device_id</th>\n",
       "      <th>gender</th>\n",
       "      <th>age</th>\n",
       "      <th>group</th>\n",
       "      <th>app_count</th>\n",
       "      <th>phone_brand</th>\n",
       "      <th>device_model</th>\n",
       "    </tr>\n",
       "  </thead>\n",
       "  <tbody>\n",
       "    <tr>\n",
       "      <th>0</th>\n",
       "      <td>-8260683887967679142</td>\n",
       "      <td>M</td>\n",
       "      <td>35</td>\n",
       "      <td>M32-38</td>\n",
       "      <td>53</td>\n",
       "      <td>小米</td>\n",
       "      <td>MI 2</td>\n",
       "    </tr>\n",
       "    <tr>\n",
       "      <th>1</th>\n",
       "      <td>7477216237379271436</td>\n",
       "      <td>F</td>\n",
       "      <td>37</td>\n",
       "      <td>F33-42</td>\n",
       "      <td>26</td>\n",
       "      <td>华为</td>\n",
       "      <td>荣耀6 plus</td>\n",
       "    </tr>\n",
       "    <tr>\n",
       "      <th>2</th>\n",
       "      <td>6352067998666467520</td>\n",
       "      <td>M</td>\n",
       "      <td>32</td>\n",
       "      <td>M32-38</td>\n",
       "      <td>19</td>\n",
       "      <td>华为</td>\n",
       "      <td>荣耀畅玩4X</td>\n",
       "    </tr>\n",
       "    <tr>\n",
       "      <th>3</th>\n",
       "      <td>8026504930081700361</td>\n",
       "      <td>M</td>\n",
       "      <td>25</td>\n",
       "      <td>M23-26</td>\n",
       "      <td>31</td>\n",
       "      <td>小米</td>\n",
       "      <td>MI 4</td>\n",
       "    </tr>\n",
       "    <tr>\n",
       "      <th>4</th>\n",
       "      <td>-7271319853104672050</td>\n",
       "      <td>M</td>\n",
       "      <td>27</td>\n",
       "      <td>M27-28</td>\n",
       "      <td>34</td>\n",
       "      <td>三星</td>\n",
       "      <td>Galaxy Note 3</td>\n",
       "    </tr>\n",
       "  </tbody>\n",
       "</table>\n",
       "</div>"
      ],
      "text/plain": [
       "             device_id gender  age   group  app_count phone_brand  \\\n",
       "0 -8260683887967679142      M   35  M32-38         53          小米   \n",
       "1  7477216237379271436      F   37  F33-42         26          华为   \n",
       "2  6352067998666467520      M   32  M32-38         19          华为   \n",
       "3  8026504930081700361      M   25  M23-26         31          小米   \n",
       "4 -7271319853104672050      M   27  M27-28         34          三星   \n",
       "\n",
       "    device_model  \n",
       "0           MI 2  \n",
       "1       荣耀6 plus  \n",
       "2         荣耀畅玩4X  \n",
       "3           MI 4  \n",
       "4  Galaxy Note 3  "
      ]
     },
     "execution_count": 4,
     "metadata": {},
     "output_type": "execute_result"
    }
   ],
   "source": [
    "# ------------------------------------------------------------------------------\n",
    "# CREATE ANOTHER DATAFRAME WITH GENDER INFO (GET FROM TRAINING SET DATAFRAME)  |\n",
    "# -----------------------------------------------------------------------------\n",
    "\n",
    "gender_info = dd.merge(train, num_apps, on = 'device_id', how = 'inner')\n",
    "gender_info = gender_info.rename(columns={'index': 'device_id'}).compute()\n",
    "\n",
    "gender_info.head()"
   ]
  },
  {
   "cell_type": "markdown",
   "metadata": {},
   "source": [
    "## Inferential Stats"
   ]
  },
  {
   "cell_type": "markdown",
   "metadata": {},
   "source": [
    "- **Null hypothesis:** There is no correlation between age and number of apps\n",
    "- **Alternate hypothesis:** There is a correlation between age and number of apps\n",
    "- **Significance level:** 0.05"
   ]
  },
  {
   "cell_type": "code",
   "execution_count": 5,
   "metadata": {},
   "outputs": [
    {
     "name": "stdout",
     "output_type": "stream",
     "text": [
      "Pearson correlation coefficient: 0.005390476428497901\n",
      "Pearson p-value: 0.5745930595293385 \n",
      "\n",
      "Pearson correlation coefficient: 0.01388534531993987\n",
      "Pearson p-value: 0.2779909709621335\n"
     ]
    }
   ],
   "source": [
    "# ------------------------------------\n",
    "# FILTERING 'gender_info' BY GENDER  |\n",
    "# -----------------------------------\n",
    "\n",
    "male = gender_info[gender_info.gender == 'M']\n",
    "female = gender_info[gender_info.gender == 'F']\n",
    "\n",
    "# ------------------------------------------------------------\n",
    "# GETTING CORRELATION COEFFICIENT & P-VALUE FOR EACH GENDER  |\n",
    "# -----------------------------------------------------------\n",
    "\n",
    "m_scipy_r, m_scipy_p = stats.pearsonr(male.age, male.app_count)\n",
    "f_scipy_r, f_scipy_p = stats.pearsonr(female.age, female.app_count)\n",
    "\n",
    "# ----------------\n",
    "# PRINT RESULTS  |\n",
    "# ---------------\n",
    "\n",
    "print(\"Pearson correlation coefficient:\", m_scipy_r)\n",
    "print(\"Pearson p-value:\", m_scipy_p, '\\n')\n",
    "print(\"Pearson correlation coefficient:\", f_scipy_r)\n",
    "print(\"Pearson p-value:\", f_scipy_p)"
   ]
  },
  {
   "cell_type": "markdown",
   "metadata": {},
   "source": [
    "The p-values of both gender groups are greater than the chosen significance level. The null hypothesis is not rejected. Age has no correlation to the amount of apps installed on a device."
   ]
  },
  {
   "cell_type": "code",
   "execution_count": 6,
   "metadata": {},
   "outputs": [
    {
     "name": "stderr",
     "output_type": "stream",
     "text": [
      "/Users/vwu/miniconda3/lib/python3.6/site-packages/scipy/stats/stats.py:1713: FutureWarning: Using a non-tuple sequence for multidimensional indexing is deprecated; use `arr[tuple(seq)]` instead of `arr[seq]`. In the future this will be interpreted as an array index, `arr[np.array(seq)]`, which will result either in an error or a different result.\n",
      "  return np.add.reduce(sorted[indexer] * weights, axis=axis) / sumval\n"
     ]
    },
    {
     "data": {
      "image/png": "[encoded data removed]",
      "text/plain": [
       "<Figure size 1080x432 with 4 Axes>"
      ]
     },
     "metadata": {},
     "output_type": "display_data"
    }
   ],
   "source": [
    "# -----------------------------------------------------------------\n",
    "# PLOTTING DISTRIBUTION OF 'age' AND 'app_count' FOR EACH GENDER  |\n",
    "# ----------------------------------------------------------------\n",
    "\n",
    "f, ((ax1, ax2), (ax3, ax4)) = plt.subplots(2, 2, figsize=(15, 6))\n",
    "sns.distplot(male.age, ax = ax1)\n",
    "sns.distplot(female.age, ax = ax2)\n",
    "sns.distplot(male.app_count, ax = ax3)\n",
    "sns.distplot(male.app_count, ax = ax4)\n",
    "plt.show()"
   ]
  },
  {
   "cell_type": "markdown",
   "metadata": {},
   "source": [
    "As can be seen from the distribution plots above, none of the distributions of each gender's 'age' and 'app_count' are normal. A nonparametric test is used to compare whether 'age' and 'app_count' between males and females have the same shape. Below, the Mann Whitney U test is performed.\n",
    "\n",
    "- **Null hypothesis:** The two populations are equal/have the same shape\n",
    "- **Alternate hypothesis:** There two populations are not equal/do not have the same shape\n",
    "- **Significance level:** 0.05"
   ]
  },
  {
   "cell_type": "code",
   "execution_count": 7,
   "metadata": {},
   "outputs": [
    {
     "name": "stdout",
     "output_type": "stream",
     "text": [
      "Mann Whitney U p-value (age): 0.05365886631268518\n",
      "Mann Whitney U p-value (number of apps): 1.4108724351737035e-13\n"
     ]
    }
   ],
   "source": [
    "# ---------------------\n",
    "# MAN WHITNEY U TEST  |\n",
    "# --------------------\n",
    "\n",
    "u_stats_age, pval_age = stats.mannwhitneyu(male.age, female.age)\n",
    "u_stats_app, pval_app = stats.mannwhitneyu(male.app_count, female.app_count)\n",
    "\n",
    "# -----------------\n",
    "# PRINT P-VALUES  |\n",
    "# ----------------\n",
    "\n",
    "print('Mann Whitney U p-value (age):', pval_age)\n",
    "print('Mann Whitney U p-value (number of apps):', pval_app)"
   ]
  },
  {
   "cell_type": "markdown",
   "metadata": {},
   "source": [
    "Based on the p-values, the distribution of *age* between Chinese men and women are similar.\n",
    "\n",
    "However, it seems that the distribution of *number of apps* per device do NOT have the same shape. The p-value is significantly smaller than the significance level. This aligns with the observation earlier pointing out men seem to have more apps installed on their phones than women."
   ]
  }
 ],
 "metadata": {
  "kernelspec": {
   "display_name": "Python 3",
   "language": "python",
   "name": "python3"
  },
  "language_info": {
   "codemirror_mode": {
    "name": "ipython",
    "version": 3
   },
   "file_extension": ".py",
   "mimetype": "text/x-python",
   "name": "python",
   "nbconvert_exporter": "python",
   "pygments_lexer": "ipython3",
   "version": "3.6.7"
  }
 },
 "nbformat": 4,
 "nbformat_minor": 2
}
